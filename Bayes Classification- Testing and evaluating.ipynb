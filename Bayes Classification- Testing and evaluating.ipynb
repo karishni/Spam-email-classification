{
 "cells": [
  {
   "cell_type": "markdown",
   "id": "f4e4dcb4",
   "metadata": {},
   "source": [
    "# Imports"
   ]
  },
  {
   "cell_type": "code",
   "execution_count": 36,
   "id": "d0ec0a03",
   "metadata": {},
   "outputs": [],
   "source": [
    "import pandas as pd\n",
    "import numpy as np\n",
    "import matplotlib.pyplot as plt\n",
    "import seaborn as sns"
   ]
  },
  {
   "cell_type": "markdown",
   "id": "fafb8ac8",
   "metadata": {},
   "source": [
    "# Constants"
   ]
  },
  {
   "cell_type": "code",
   "execution_count": 37,
   "id": "6269da49",
   "metadata": {},
   "outputs": [],
   "source": [
    "TOKEN_SPAM_PROB_FILE = '03_Testing/prob-spam.txt'\n",
    "TOKEN_HAM_PROB_FILE = '03_Testing/prob-ham.txt'\n",
    "TOKEN_ALL_PROB_FILE = '03_Testing/prob-all-tokens.txt'\n",
    "TEST_TARGET_FILE = '03_Testing/test_target.txt'\n",
    "TEST_FEATURE_MATRIX = '03_Testing/test_features.txt'\n",
    "\n",
    "VOCAB_SIZE = 2500"
   ]
  },
  {
   "cell_type": "markdown",
   "id": "dc497368",
   "metadata": {},
   "source": [
    "# Load the data"
   ]
  },
  {
   "cell_type": "code",
   "execution_count": 38,
   "id": "f22493e0",
   "metadata": {},
   "outputs": [],
   "source": [
    "#features\n",
    "X_test = np.loadtxt(TEST_FEATURE_MATRIX, delimiter=' ')\n",
    "#Target\n",
    "y_test = np.loadtxt(TEST_TARGET_FILE, delimiter=' ')\n",
    "#tokens\n",
    "prob_token_spam=np.loadtxt(TOKEN_SPAM_PROB_FILE, delimiter=' ')\n",
    "prob_token_ham=np.loadtxt(TOKEN_HAM_PROB_FILE, delimiter=' ')\n",
    "prob_all_tokens=np.loadtxt(TOKEN_ALL_PROB_FILE, delimiter=' ')"
   ]
  },
  {
   "cell_type": "code",
   "execution_count": 39,
   "id": "dbdc87c6",
   "metadata": {},
   "outputs": [
    {
     "data": {
      "text/plain": [
       "(2500,)"
      ]
     },
     "execution_count": 39,
     "metadata": {},
     "output_type": "execute_result"
    }
   ],
   "source": [
    "prob_token_spam.shape"
   ]
  },
  {
   "cell_type": "code",
   "execution_count": 40,
   "id": "589742c2",
   "metadata": {},
   "outputs": [
    {
     "data": {
      "text/plain": [
       "(1724, 2500)"
      ]
     },
     "execution_count": 40,
     "metadata": {},
     "output_type": "execute_result"
    }
   ],
   "source": [
    "X_test.shape"
   ]
  },
  {
   "cell_type": "markdown",
   "id": "5808d3b6",
   "metadata": {},
   "source": [
    "## Dot product"
   ]
  },
  {
   "cell_type": "code",
   "execution_count": 41,
   "id": "500708ed",
   "metadata": {},
   "outputs": [
    {
     "data": {
      "text/plain": [
       "(1724,)"
      ]
     },
     "execution_count": 41,
     "metadata": {},
     "output_type": "execute_result"
    }
   ],
   "source": [
    "X_test.dot(prob_token_spam).shape"
   ]
  },
  {
   "cell_type": "markdown",
   "id": "5de426b1",
   "metadata": {},
   "source": [
    "### Set the prior"
   ]
  },
  {
   "cell_type": "code",
   "execution_count": 42,
   "id": "386b27ab",
   "metadata": {},
   "outputs": [
    {
     "data": {
      "text/plain": [
       "-1.1679623668029029"
      ]
     },
     "execution_count": 42,
     "metadata": {},
     "output_type": "execute_result"
    }
   ],
   "source": [
    "PROB_SPAM = 0.311\n",
    "np.log(PROB_SPAM)"
   ]
  },
  {
   "cell_type": "code",
   "execution_count": 43,
   "id": "8dd19ab3",
   "metadata": {},
   "outputs": [
    {
     "data": {
      "text/plain": [
       "array([-4.02585271, -4.80268234, -4.88026804, ..., -9.71165398,\n",
       "       -9.60245468, -9.56855313])"
      ]
     },
     "execution_count": 43,
     "metadata": {},
     "output_type": "execute_result"
    }
   ],
   "source": [
    "np.log(prob_all_tokens)"
   ]
  },
  {
   "cell_type": "code",
   "execution_count": 44,
   "id": "20367806",
   "metadata": {},
   "outputs": [
    {
     "data": {
      "text/plain": [
       "array([-4.40767023, -5.25374503, -4.99014747, ..., -9.60938491,\n",
       "       -9.04976912, -9.79170647])"
      ]
     },
     "execution_count": 44,
     "metadata": {},
     "output_type": "execute_result"
    }
   ],
   "source": [
    "np.log(prob_token_spam)"
   ]
  },
  {
   "cell_type": "code",
   "execution_count": 45,
   "id": "47097fff",
   "metadata": {},
   "outputs": [
    {
     "data": {
      "text/plain": [
       "array([[0., 0., 1., ..., 0., 0., 0.],\n",
       "       [6., 1., 1., ..., 0., 0., 0.],\n",
       "       [0., 0., 1., ..., 0., 0., 0.],\n",
       "       ...,\n",
       "       [0., 4., 0., ..., 0., 0., 0.],\n",
       "       [2., 2., 0., ..., 0., 0., 0.],\n",
       "       [1., 9., 1., ..., 0., 0., 0.]])"
      ]
     },
     "execution_count": 45,
     "metadata": {},
     "output_type": "execute_result"
    }
   ],
   "source": [
    "X_test"
   ]
  },
  {
   "cell_type": "markdown",
   "id": "8f46927b",
   "metadata": {},
   "source": [
    "## Joint Probability in log format "
   ]
  },
  {
   "cell_type": "code",
   "execution_count": 46,
   "id": "7e89e706",
   "metadata": {},
   "outputs": [
    {
     "data": {
      "text/plain": [
       "array([ -184.80186742,   -43.39346799,   -50.66048614, ...,\n",
       "       -1060.30406818,   -43.77704384,  -377.16661856])"
      ]
     },
     "execution_count": 46,
     "metadata": {},
     "output_type": "execute_result"
    }
   ],
   "source": [
    "joint_log_spam = X_test.dot(np.log(prob_token_spam) - np.log(prob_all_tokens) + np.log(PROB_SPAM))\n",
    "joint_log_spam"
   ]
  },
  {
   "cell_type": "code",
   "execution_count": 49,
   "id": "30c614ac",
   "metadata": {},
   "outputs": [
    {
     "data": {
      "text/plain": [
       "-127.63965633804193"
      ]
     },
     "execution_count": 49,
     "metadata": {},
     "output_type": "execute_result"
    }
   ],
   "source": [
    "joint_log_ham = X_test.dot(np.log(prob_token_ham) - np.log(prob_all_tokens) + np.log(1-PROB_SPAM))\n",
    "joint_log_ham[0]"
   ]
  },
  {
   "cell_type": "markdown",
   "id": "7a454483",
   "metadata": {},
   "source": [
    "# Making Predictions\n",
    "### Checking for higher probability"
   ]
  },
  {
   "cell_type": "markdown",
   "id": "52e76dd9",
   "metadata": {},
   "source": [
    "### P(Spam|X)>P(Ham|X) or P(Spam|X)<P(Ham|X)"
   ]
  },
  {
   "cell_type": "code",
   "execution_count": 52,
   "id": "8399f1c5",
   "metadata": {},
   "outputs": [],
   "source": [
    "predictions=joint_log_spam>joint_log_ham"
   ]
  },
  {
   "cell_type": "code",
   "execution_count": 55,
   "id": "071a474a",
   "metadata": {},
   "outputs": [
    {
     "data": {
      "text/plain": [
       "array([0, 0, 0, 0, 0])"
      ]
     },
     "execution_count": 55,
     "metadata": {},
     "output_type": "execute_result"
    }
   ],
   "source": [
    "predictions[-5:]*1"
   ]
  },
  {
   "cell_type": "code",
   "execution_count": 54,
   "id": "bbaeaf34",
   "metadata": {},
   "outputs": [
    {
     "data": {
      "text/plain": [
       "array([0., 0., 0., 0., 0.])"
      ]
     },
     "execution_count": 54,
     "metadata": {},
     "output_type": "execute_result"
    }
   ],
   "source": [
    "y_test[-5:]"
   ]
  },
  {
   "cell_type": "markdown",
   "id": "f6f70183",
   "metadata": {},
   "source": [
    "## Accuracy"
   ]
  },
  {
   "cell_type": "code",
   "execution_count": 60,
   "id": "5a4fad14",
   "metadata": {},
   "outputs": [
    {
     "data": {
      "text/plain": [
       "0.7708816705336426"
      ]
     },
     "execution_count": 60,
     "metadata": {},
     "output_type": "execute_result"
    }
   ],
   "source": [
    "correct_docs = (predictions == y_test).sum()\n",
    "correct_docs/len(X_test)"
   ]
  },
  {
   "cell_type": "code",
   "execution_count": 58,
   "id": "47f5c242",
   "metadata": {},
   "outputs": [
    {
     "data": {
      "text/plain": [
       "0.2291183294663573"
      ]
     },
     "execution_count": 58,
     "metadata": {},
     "output_type": "execute_result"
    }
   ],
   "source": [
    "fraction_wrong= (len(X_test)-correct_docs)/len(X_test)\n",
    "fraction_wrong"
   ]
  },
  {
   "cell_type": "markdown",
   "id": "922e6c0e",
   "metadata": {},
   "source": [
    "## Visualizing the data"
   ]
  },
  {
   "cell_type": "code",
   "execution_count": 65,
   "id": "e8dddeca",
   "metadata": {},
   "outputs": [
    {
     "data": {
      "image/png": "[encoded data removed]",
      "text/plain": [
       "<Figure size 792x504 with 1 Axes>"
      ]
     },
     "metadata": {
      "needs_background": "light"
     },
     "output_type": "display_data"
    }
   ],
   "source": [
    "plt.figure(figsize=(11,7))\n",
    "plt.xlabel('P(X | Nonspam)', fontsize=14)\n",
    "plt.xlabel('P(X | Spam)', fontsize=14)\n",
    "\n",
    "plt.xlim([-2500, 10])\n",
    "plt.ylim([-5000, 10])\n",
    "\n",
    "plt.scatter(joint_log_ham, joint_log_spam, color='navy')\n",
    "plt.show()"
   ]
  },
  {
   "cell_type": "markdown",
   "id": "52297eeb",
   "metadata": {},
   "source": [
    "## Decision boundary"
   ]
  },
  {
   "cell_type": "code",
   "execution_count": 74,
   "id": "b59fa8a5",
   "metadata": {},
   "outputs": [],
   "source": [
    "linedata = np.linspace(start=-14000, stop=1, num=1000)"
   ]
  },
  {
   "cell_type": "code",
   "execution_count": 76,
   "id": "06037796",
   "metadata": {},
   "outputs": [
    {
     "data": {
      "image/png": "[encoded data removed]",
      "text/plain": [
       "<Figure size 792x504 with 1 Axes>"
      ]
     },
     "metadata": {
      "needs_background": "light"
     },
     "output_type": "display_data"
    }
   ],
   "source": [
    "plt.figure(figsize=(11,7))\n",
    "plt.xlabel('P(X | Nonspam)', fontsize=14)\n",
    "plt.ylabel('P(X | Spam)', fontsize=14)\n",
    "\n",
    "plt.xlim([-5000, 1])\n",
    "plt.ylim([-5000, 1])\n",
    "\n",
    "plt.scatter(joint_log_ham, joint_log_spam, color='navy')\n",
    "plt.plot(linedata, linedata, color='orange')\n",
    "plt.show()"
   ]
  },
  {
   "cell_type": "code",
   "execution_count": null,
   "id": "ebbdd42b",
   "metadata": {},
   "outputs": [],
   "source": []
  },
  {
   "cell_type": "code",
   "execution_count": 81,
   "id": "f03db5fb",
   "metadata": {},
   "outputs": [
    {
     "data": {
      "image/png": "[encoded data removed]",
      "text/plain": [
       "<Figure size 1152x504 with 2 Axes>"
      ]
     },
     "metadata": {
      "needs_background": "light"
     },
     "output_type": "display_data"
    }
   ],
   "source": [
    "plt.figure(figsize=(16,7))\n",
    "\n",
    "plt.subplot(1,2,1)\n",
    "plt.xlabel('P(X | Nonspam)', fontsize=14)\n",
    "plt.ylabel('P(X | Spam)', fontsize=14)\n",
    "\n",
    "plt.xlim([-5000, 1])\n",
    "plt.ylim([-5000, 1])\n",
    "\n",
    "plt.scatter(joint_log_ham, joint_log_spam, color='navy', alpha=0.5, s=25)\n",
    "plt.plot(linedata, linedata, color='orange')\n",
    "\n",
    "plt.subplot(1,2,2)\n",
    "plt.xlabel('P(X | Nonspam)', fontsize=14)\n",
    "plt.ylabel('P(X | Spam)', fontsize=14)\n",
    "\n",
    "plt.xlim([-1000, 1])\n",
    "plt.ylim([-1000, 1])\n",
    "\n",
    "plt.scatter(joint_log_ham, joint_log_spam, color='navy', alpha=0.5, s=8)\n",
    "plt.plot(linedata, linedata, color='orange')\n",
    "\n",
    "plt.show()"
   ]
  },
  {
   "cell_type": "code",
   "execution_count": 83,
   "id": "04c806c4",
   "metadata": {},
   "outputs": [],
   "source": [
    "sns.set_style('whitegrid')\n",
    "labels = 'Actual Category'\n",
    "\n",
    "summary_df = pd.DataFrame({'P(X | Spam)': joint_log_spam, 'P(X | Nonspam)': joint_log_ham, labels: y_test})"
   ]
  },
  {
   "cell_type": "code",
   "execution_count": 86,
   "id": "fccc5e3c",
   "metadata": {},
   "outputs": [
    {
     "data": {
      "image/png": "[encoded data removed]",
      "text/plain": [
       "<Figure size 547.5x468 with 1 Axes>"
      ]
     },
     "metadata": {},
     "output_type": "display_data"
    }
   ],
   "source": [
    "sns.lmplot(x='P(X | Nonspam)', y='P(X | Spam)', data=summary_df, height=6.5, fit_reg=False, \n",
    "           scatter_kws={'alpha':0.5, 's': 25},hue=labels)\n",
    "plt.xlim([-1000, 1])\n",
    "plt.ylim([-1000, 1])\n",
    "plt.show()"
   ]
  },
  {
   "cell_type": "markdown",
   "id": "7d3cb23f",
   "metadata": {},
   "source": [
    "### False negatives and false positives"
   ]
  },
  {
   "cell_type": "code",
   "execution_count": 88,
   "id": "6b3b98db",
   "metadata": {},
   "outputs": [
    {
     "data": {
      "text/plain": [
       "(array([False,  True]), array([1530,  194], dtype=int64))"
      ]
     },
     "execution_count": 88,
     "metadata": {},
     "output_type": "execute_result"
    }
   ],
   "source": [
    "np.unique(predictions, return_counts=True)"
   ]
  },
  {
   "cell_type": "code",
   "execution_count": 92,
   "id": "6cecdfab",
   "metadata": {},
   "outputs": [
    {
     "data": {
      "text/plain": [
       "194"
      ]
     },
     "execution_count": 92,
     "metadata": {},
     "output_type": "execute_result"
    }
   ],
   "source": [
    "true_pos = (predictions == 1) & (y_test==1)\n",
    "true_pos.sum()"
   ]
  },
  {
   "cell_type": "code",
   "execution_count": 93,
   "id": "b31ec741",
   "metadata": {},
   "outputs": [
    {
     "data": {
      "text/plain": [
       "0"
      ]
     },
     "execution_count": 93,
     "metadata": {},
     "output_type": "execute_result"
    }
   ],
   "source": [
    "false_pos = (predictions == 1) & (y_test==0)\n",
    "false_pos.sum()"
   ]
  },
  {
   "cell_type": "code",
   "execution_count": 95,
   "id": "a1a77783",
   "metadata": {},
   "outputs": [
    {
     "data": {
      "text/plain": [
       "395"
      ]
     },
     "execution_count": 95,
     "metadata": {},
     "output_type": "execute_result"
    }
   ],
   "source": [
    "false_neg = (predictions == 0) & (y_test==1)\n",
    "false_neg.sum()"
   ]
  },
  {
   "cell_type": "code",
   "execution_count": 96,
   "id": "bcab39f7",
   "metadata": {},
   "outputs": [
    {
     "data": {
      "text/plain": [
       "1135"
      ]
     },
     "execution_count": 96,
     "metadata": {},
     "output_type": "execute_result"
    }
   ],
   "source": [
    "true_neg = (predictions == 0) & (y_test==0)\n",
    "true_neg.sum()"
   ]
  },
  {
   "cell_type": "markdown",
   "id": "1d29eecc",
   "metadata": {},
   "source": [
    "## recall score"
   ]
  },
  {
   "cell_type": "code",
   "execution_count": 97,
   "id": "9441059a",
   "metadata": {},
   "outputs": [
    {
     "data": {
      "text/plain": [
       "0.3293718166383701"
      ]
     },
     "execution_count": 97,
     "metadata": {},
     "output_type": "execute_result"
    }
   ],
   "source": [
    "recall_score = true_pos.sum()/(true_pos.sum()+false_neg.sum())\n",
    "recall_score"
   ]
  },
  {
   "cell_type": "markdown",
   "id": "337f6bbf",
   "metadata": {},
   "source": [
    "## Precision metric"
   ]
  },
  {
   "cell_type": "code",
   "execution_count": 98,
   "id": "59425710",
   "metadata": {},
   "outputs": [
    {
     "data": {
      "text/plain": [
       "1.0"
      ]
     },
     "execution_count": 98,
     "metadata": {},
     "output_type": "execute_result"
    }
   ],
   "source": [
    "pres_score = true_pos.sum()/(true_pos.sum()+false_pos.sum())\n",
    "pres_score"
   ]
  },
  {
   "cell_type": "markdown",
   "id": "75ddc0d2",
   "metadata": {},
   "source": [
    "## F Score"
   ]
  },
  {
   "cell_type": "code",
   "execution_count": 101,
   "id": "4c7b27ab",
   "metadata": {},
   "outputs": [
    {
     "data": {
      "text/plain": [
       "0.4955300127713921"
      ]
     },
     "execution_count": 101,
     "metadata": {},
     "output_type": "execute_result"
    }
   ],
   "source": [
    "f_score = 2* ((pres_score*recall_score)/(pres_score+recall_score))\n",
    "f_score"
   ]
  },
  {
   "cell_type": "code",
   "execution_count": null,
   "id": "098994e9",
   "metadata": {},
   "outputs": [],
   "source": []
  }
 ],
 "metadata": {
  "kernelspec": {
   "display_name": "Python 3",
   "language": "python",
   "name": "python3"
  },
  "language_info": {
   "codemirror_mode": {
    "name": "ipython",
    "version": 3
   },
   "file_extension": ".py",
   "mimetype": "text/x-python",
   "name": "python",
   "nbconvert_exporter": "python",
   "pygments_lexer": "ipython3",
   "version": "3.8.8"
  }
 },
 "nbformat": 4,
 "nbformat_minor": 5
}
